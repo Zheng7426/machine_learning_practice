{
 "cells": [
  {
   "cell_type": "markdown",
   "metadata": {},
   "source": [
    "<h3>Add Two Numbers</h3>\n",
    "<Br>You are given two non-empty linked lists representing two non-negative integers. The digits are stored in reverse order and each of their nodes contain a single digit. Add the two numbers and return it as a linked list.\n",
    "\n",
    "You may assume the two numbers do not contain any leading zero, except the number 0 itself.\n",
    "```\n",
    "Input: (2 -> 4 -> 3) + (5 -> 6 -> 4)\n",
    "Output: 7 -> 0 -> 8\n",
    "Explanation: 342 + 465 = 807.\n",
    "```"
   ]
  },
  {
   "cell_type": "code",
   "execution_count": 111,
   "metadata": {},
   "outputs": [
    {
     "data": {
      "text/plain": [
       "'8'"
      ]
     },
     "execution_count": 111,
     "metadata": {},
     "output_type": "execute_result"
    }
   ],
   "source": [
    "class ListNode:\n",
    "    def __init__(self, val=0, next=None):\n",
    "        self.val = val\n",
    "        self.next = next\n",
    "\n",
    "        \n",
    "class Solution:\n",
    "    def addTwoNumbers(self, l1: ListNode, l2: ListNode) -> ListNode:      \n",
    "        node_1 = l1\n",
    "        string_1 = str(node_1.val)\n",
    "        while node_1.next != None:\n",
    "            node_1 = node_1.next\n",
    "            string_1 += str(node_1.val)\n",
    "        num_1 = int(string_1[::-1])\n",
    "\n",
    "        \n",
    "        node_2 = l2\n",
    "        string_2 = str(node_2.val)\n",
    "        while node_2.next != None:\n",
    "            node_2 = node_2.next\n",
    "            string_2 += str(node_2.val)\n",
    "        num_2 = int(string_2[::-1])\n",
    "        final_str = str(num_1 + num_2)\n",
    "        \n",
    "        stored = None\n",
    "        for char in final_str:\n",
    "            node = ListNode(char)\n",
    "            node.next = stored\n",
    "            stored = node\n",
    "        return node\n",
    "            \n",
    "\n",
    "        \n",
    "\n",
    "l1 = ListNode(2,ListNode(4, ListNode(3)))\n",
    "l2 = ListNode(5,ListNode(6, ListNode(4)))  \n",
    "s1 = Solution()\n",
    "s1.addTwoNumbers(l1, l2).next.next.val\n",
    "\n",
    "\n",
    "#s1.addTwoNumbers(ListNode([2,4,3]), ListNode([5,6,4]))"
   ]
  },
  {
   "cell_type": "markdown",
   "metadata": {},
   "source": [
    " <h3>Longest Substring Without Repeating Characters</h3>\n",
    " Given a string, find the length of the longest substring without repeating characters.\n",
    "\n",
    "Example 1:\n",
    "```\n",
    "Input: \"abcabcbb\"\n",
    "Output: 3 \n",
    "Explanation: The answer is \"abc\", with the length of 3. \n",
    "```\n",
    "Example 2:\n",
    "```\n",
    "Input: \"bbbbb\"\n",
    "Output: 1\n",
    "Explanation: The answer is \"b\", with the length of 1.\n",
    "```\n",
    "Example 3:\n",
    "```\n",
    "Input: \"pwwkew\"\n",
    "Output: 3\n",
    "Explanation: The answer is \"wke\", with the length of 3. \n",
    "             Note that the answer must be a substring, \"pwke\" is a subsequence and not a substring.\n",
    "```"
   ]
  },
  {
   "cell_type": "code",
   "execution_count": 253,
   "metadata": {},
   "outputs": [
    {
     "data": {
      "text/plain": [
       "''"
      ]
     },
     "execution_count": 253,
     "metadata": {},
     "output_type": "execute_result"
    }
   ],
   "source": [
    "class Solution:\n",
    "    def lengthOfLongestSubstring(self, s: str) -> int:      \n",
    "        index = 0\n",
    "        seen = \"\"\n",
    "        uniq = \"\"\n",
    "        longest = \"\"\n",
    "        for i, char in enumerate(s):\n",
    "            if char not in seen:\n",
    "                seen += char\n",
    "            elif char == s[-1] and len(seen) == len(s) - 1:\n",
    "                return seen + char\n",
    "            else:\n",
    "                index = i\n",
    "                seen = char\n",
    "                uniq = s[index:i]\n",
    "                if len(uniq) > len(longest):\n",
    "                    longest = uniq\n",
    "        return longest\n",
    "s1 = Solution()\n",
    "s1.lengthOfLongestSubstring(\"abc\")"
   ]
  },
  {
   "cell_type": "code",
   "execution_count": 281,
   "metadata": {},
   "outputs": [
    {
     "data": {
      "text/plain": [
       "''"
      ]
     },
     "execution_count": 281,
     "metadata": {},
     "output_type": "execute_result"
    }
   ],
   "source": [
    "class Solution:\n",
    "    def lengthOfLongestSubstring(self, s: str) -> int:\n",
    "        index = 0\n",
    "        seen = \"\"\n",
    "        uniq = \"\"\n",
    "        for i, char in enumerate(s):\n",
    "            if char in seen and i != 1:\n",
    "                if len(uniq) < len(seen[index:i]):\n",
    "                    uniq = seen[index:i]\n",
    "                else:\n",
    "                    index = i\n",
    "                seen = \"\"\n",
    "            elif char == s[-1] and len(seen) == len(s) - 1:\n",
    "                seen += char\n",
    "                uniq = seen\n",
    "            elif char in seen and i == 1 and s[0] == s[1]:\n",
    "                seen = \"\"\n",
    "                uniq = seen\n",
    "            seen += char     \n",
    "        return uniq\n",
    "s1 = Solution()\n",
    "s1.lengthOfLongestSubstring(\"aab\")"
   ]
  },
  {
   "cell_type": "code",
   "execution_count": null,
   "metadata": {},
   "outputs": [],
   "source": []
  }
 ],
 "metadata": {
  "kernelspec": {
   "display_name": "Python 3",
   "language": "python",
   "name": "python3"
  },
  "language_info": {
   "codemirror_mode": {
    "name": "ipython",
    "version": 3
   },
   "file_extension": ".py",
   "mimetype": "text/x-python",
   "name": "python",
   "nbconvert_exporter": "python",
   "pygments_lexer": "ipython3",
   "version": "3.7.6"
  }
 },
 "nbformat": 4,
 "nbformat_minor": 4
}
