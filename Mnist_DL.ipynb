{
  "nbformat": 4,
  "nbformat_minor": 0,
  "metadata": {
    "colab": {
      "name": "Mnist_DL.ipynb",
      "provenance": [],
      "authorship_tag": "ABX9TyN9i9atK7SvhvrY5R/repQP",
      "include_colab_link": true
    },
    "kernelspec": {
      "name": "python3",
      "display_name": "Python 3"
    }
  },
  "cells": [
    {
      "cell_type": "markdown",
      "metadata": {
        "id": "view-in-github",
        "colab_type": "text"
      },
      "source": [
        "<a href=\"https://colab.research.google.com/github/Zheng7426/machine_learning_practice/blob/master/Mnist_DL.ipynb\" target=\"_parent\"><img src=\"https://colab.research.google.com/assets/colab-badge.svg\" alt=\"Open In Colab\"/></a>"
      ]
    },
    {
      "cell_type": "code",
      "metadata": {
        "id": "oN9QQx2BQ88A",
        "colab_type": "code",
        "colab": {
          "base_uri": "https://localhost:8080/",
          "height": 68
        },
        "outputId": "e44ffde0-6168-4383-cfc5-97c8c65d8765"
      },
      "source": [
        "from keras.datasets import mnist\n",
        "\n",
        "(x_train, y_train), (x_test, y_test) = mnist.load_data()"
      ],
      "execution_count": 1,
      "outputs": [
        {
          "output_type": "stream",
          "text": [
            "Using TensorFlow backend.\n"
          ],
          "name": "stderr"
        },
        {
          "output_type": "stream",
          "text": [
            "Downloading data from https://s3.amazonaws.com/img-datasets/mnist.npz\n",
            "11493376/11490434 [==============================] - 0s 0us/step\n"
          ],
          "name": "stdout"
        }
      ]
    },
    {
      "cell_type": "code",
      "metadata": {
        "id": "SdR46VqzRfv8",
        "colab_type": "code",
        "colab": {
          "base_uri": "https://localhost:8080/",
          "height": 51
        },
        "outputId": "f8159f7c-e404-4b97-d0ab-424f3cfc6c6d"
      },
      "source": [
        "print(x_train.shape)\n",
        "print(x_test.shape)"
      ],
      "execution_count": 15,
      "outputs": [
        {
          "output_type": "stream",
          "text": [
            "(60000, 784)\n",
            "(10000, 28, 28)\n"
          ],
          "name": "stdout"
        }
      ]
    },
    {
      "cell_type": "code",
      "metadata": {
        "id": "SoLcT9gVSJ_m",
        "colab_type": "code",
        "colab": {
          "base_uri": "https://localhost:8080/",
          "height": 34
        },
        "outputId": "413ea0b3-cb88-49cf-8e91-54a52cd1323f"
      },
      "source": [
        "x_train.dtype"
      ],
      "execution_count": 3,
      "outputs": [
        {
          "output_type": "execute_result",
          "data": {
            "text/plain": [
              "dtype('uint8')"
            ]
          },
          "metadata": {
            "tags": []
          },
          "execution_count": 3
        }
      ]
    },
    {
      "cell_type": "code",
      "metadata": {
        "id": "uMxCgksOSPOD",
        "colab_type": "code",
        "colab": {}
      },
      "source": [
        "x_train = x_train.reshape((60000, 28*28))\n",
        "x_train = x_train.astype('float32')"
      ],
      "execution_count": 0,
      "outputs": []
    },
    {
      "cell_type": "code",
      "metadata": {
        "id": "Yhg8GwK3UAB9",
        "colab_type": "code",
        "colab": {}
      },
      "source": [
        "x_train = x_train / 255"
      ],
      "execution_count": 0,
      "outputs": []
    },
    {
      "cell_type": "code",
      "metadata": {
        "id": "0GcdrIiFUgLk",
        "colab_type": "code",
        "colab": {}
      },
      "source": [
        "x_test = x_test.reshape((10000, 28*28)).astype('float32') / 255"
      ],
      "execution_count": 0,
      "outputs": []
    },
    {
      "cell_type": "code",
      "metadata": {
        "id": "uDbSl5MaUziv",
        "colab_type": "code",
        "colab": {}
      },
      "source": [
        "x_test[0]"
      ],
      "execution_count": 0,
      "outputs": []
    },
    {
      "cell_type": "markdown",
      "metadata": {
        "id": "52gqMwGjSl9e",
        "colab_type": "text"
      },
      "source": [
        "<h1>Network Architecture<h1>"
      ]
    },
    {
      "cell_type": "code",
      "metadata": {
        "id": "jw2Pd7o4SoUs",
        "colab_type": "code",
        "colab": {}
      },
      "source": [
        "from keras import layers\n",
        "from keras import models\n",
        "\n",
        "network = models.Sequential()\n",
        "network.add(layers.Dense(512, activation='relu', input_shape=(28*28,)))\n",
        "network.add(layers.Dense(10, activation='softmax'))"
      ],
      "execution_count": 0,
      "outputs": []
    },
    {
      "cell_type": "code",
      "metadata": {
        "id": "JBpSm97LW38Z",
        "colab_type": "code",
        "colab": {
          "base_uri": "https://localhost:8080/",
          "height": 68
        },
        "outputId": "7ef7b440-7729-476e-9e86-8f1b2a4fd832"
      },
      "source": [
        "print(y_train)\n",
        "print(len(y_train))\n",
        "print(y_train.shape)"
      ],
      "execution_count": 21,
      "outputs": [
        {
          "output_type": "stream",
          "text": [
            "[5 0 4 ... 5 6 8]\n",
            "60000\n",
            "(60000,)\n"
          ],
          "name": "stdout"
        }
      ]
    },
    {
      "cell_type": "code",
      "metadata": {
        "id": "dnP1ZVxtWpqD",
        "colab_type": "code",
        "colab": {}
      },
      "source": [
        "from keras.utils import to_categorical\n",
        "\n",
        "y_train = to_categorical(y_train)\n",
        "y_test = to_categorical(y_test)"
      ],
      "execution_count": 0,
      "outputs": []
    },
    {
      "cell_type": "code",
      "metadata": {
        "id": "BP3hUxCMXCmY",
        "colab_type": "code",
        "colab": {
          "base_uri": "https://localhost:8080/",
          "height": 170
        },
        "outputId": "75d1f23d-cba5-4f22-e87a-d6c07cf67395"
      },
      "source": [
        "print(y_train)\n",
        "print(len(y_train))\n",
        "print(y_train.shape)"
      ],
      "execution_count": 23,
      "outputs": [
        {
          "output_type": "stream",
          "text": [
            "[[0. 0. 0. ... 0. 0. 0.]\n",
            " [1. 0. 0. ... 0. 0. 0.]\n",
            " [0. 0. 0. ... 0. 0. 0.]\n",
            " ...\n",
            " [0. 0. 0. ... 0. 0. 0.]\n",
            " [0. 0. 0. ... 0. 0. 0.]\n",
            " [0. 0. 0. ... 0. 1. 0.]]\n",
            "60000\n",
            "(60000, 10)\n"
          ],
          "name": "stdout"
        }
      ]
    },
    {
      "cell_type": "code",
      "metadata": {
        "id": "X-1tQnFSTbdR",
        "colab_type": "code",
        "colab": {}
      },
      "source": [
        "network.compile(optimizer='rmsprop', \n",
        "                loss='categorical_crossentropy',\n",
        "                metrics=['accuracy'])\n"
      ],
      "execution_count": 0,
      "outputs": []
    },
    {
      "cell_type": "code",
      "metadata": {
        "id": "y-Uy-i9IXJaE",
        "colab_type": "code",
        "colab": {
          "base_uri": "https://localhost:8080/",
          "height": 204
        },
        "outputId": "4b89c882-e7e9-42f1-9c07-20bbf8fcbc1d"
      },
      "source": [
        "network.fit(x_train, y_train, epochs=5, batch_size=128)"
      ],
      "execution_count": 25,
      "outputs": [
        {
          "output_type": "stream",
          "text": [
            "Epoch 1/5\n",
            "60000/60000 [==============================] - 5s 78us/step - loss: 0.2609 - accuracy: 0.9247\n",
            "Epoch 2/5\n",
            "60000/60000 [==============================] - 4s 72us/step - loss: 0.1044 - accuracy: 0.9695\n",
            "Epoch 3/5\n",
            "60000/60000 [==============================] - 4s 73us/step - loss: 0.0676 - accuracy: 0.9796\n",
            "Epoch 4/5\n",
            "60000/60000 [==============================] - 4s 72us/step - loss: 0.0494 - accuracy: 0.9846\n",
            "Epoch 5/5\n",
            "60000/60000 [==============================] - 4s 73us/step - loss: 0.0371 - accuracy: 0.9884\n"
          ],
          "name": "stdout"
        },
        {
          "output_type": "execute_result",
          "data": {
            "text/plain": [
              "<keras.callbacks.callbacks.History at 0x7f8238d0ceb8>"
            ]
          },
          "metadata": {
            "tags": []
          },
          "execution_count": 25
        }
      ]
    },
    {
      "cell_type": "code",
      "metadata": {
        "id": "Zo03TZbeXl8q",
        "colab_type": "code",
        "colab": {
          "base_uri": "https://localhost:8080/",
          "height": 34
        },
        "outputId": "1b6d9940-b1db-4ab7-d9d7-37b1712fb580"
      },
      "source": [
        "test_loss, test_acc = network.evaluate(x_test, y_test)"
      ],
      "execution_count": 26,
      "outputs": [
        {
          "output_type": "stream",
          "text": [
            "10000/10000 [==============================] - 0s 47us/step\n"
          ],
          "name": "stdout"
        }
      ]
    },
    {
      "cell_type": "code",
      "metadata": {
        "id": "miU0JEpAXwvP",
        "colab_type": "code",
        "colab": {
          "base_uri": "https://localhost:8080/",
          "height": 51
        },
        "outputId": "132490fa-46a9-4b73-d8d5-1f5104e4a889"
      },
      "source": [
        "print('test_loss:', test_loss)\n",
        "print('test_acc: ', test_acc)"
      ],
      "execution_count": 27,
      "outputs": [
        {
          "output_type": "stream",
          "text": [
            "test_loss: 0.06230161503599957\n",
            "test_acc:  0.9815000295639038\n"
          ],
          "name": "stdout"
        }
      ]
    }
  ]
}