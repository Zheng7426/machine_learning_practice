{
  "nbformat": 4,
  "nbformat_minor": 0,
  "metadata": {
    "colab": {
      "name": "multiclass_Reuters.ipynb",
      "provenance": [],
      "authorship_tag": "ABX9TyMWnGj+tLIKtm/ByZiSPhSf",
      "include_colab_link": true
    },
    "kernelspec": {
      "name": "python3",
      "display_name": "Python 3"
    },
    "accelerator": "GPU"
  },
  "cells": [
    {
      "cell_type": "markdown",
      "metadata": {
        "id": "view-in-github",
        "colab_type": "text"
      },
      "source": [
        "<a href=\"https://colab.research.google.com/github/Zheng7426/machine_learning_practice/blob/master/multiclass_Reuters.ipynb\" target=\"_parent\"><img src=\"https://colab.research.google.com/assets/colab-badge.svg\" alt=\"Open In Colab\"/></a>"
      ]
    },
    {
      "cell_type": "code",
      "metadata": {
        "id": "7D7nsIU8limG",
        "colab_type": "code",
        "colab": {}
      },
      "source": [
        "from keras.datasets import reuters\n",
        "(train_data, train_labels), (test_data, test_labels) = reuters.load_data(num_words=10000)"
      ],
      "execution_count": 0,
      "outputs": []
    },
    {
      "cell_type": "code",
      "metadata": {
        "id": "TQXL8z1gppVV",
        "colab_type": "code",
        "colab": {
          "base_uri": "https://localhost:8080/",
          "height": 68
        },
        "outputId": "64e65e83-3b04-456b-89cb-7cd3c2f898e8"
      },
      "source": [
        "print(len(train_data[0]))\n",
        "print(train_data.shape)\n",
        "len(train_data[0])"
      ],
      "execution_count": 18,
      "outputs": [
        {
          "output_type": "stream",
          "text": [
            "87\n",
            "(8982,)\n"
          ],
          "name": "stdout"
        },
        {
          "output_type": "execute_result",
          "data": {
            "text/plain": [
              "87"
            ]
          },
          "metadata": {
            "tags": []
          },
          "execution_count": 18
        }
      ]
    },
    {
      "cell_type": "code",
      "metadata": {
        "id": "q67yva_RqZHD",
        "colab_type": "code",
        "colab": {}
      },
      "source": [
        "import numpy as np\n",
        "\n",
        "def vectorize_sequences(sequences, dimension=10000):\n",
        "  results = np.zeros((len(sequences), dimension))\n",
        "  for i, sequence in enumerate(sequences):\n",
        "    results[i, sequence] = 1.\n",
        "  return results\n",
        "\n",
        "x_train = vectorize_sequences(train_data)\n",
        "x_test = vectorize_sequences(test_data)\n"
      ],
      "execution_count": 0,
      "outputs": []
    },
    {
      "cell_type": "code",
      "metadata": {
        "id": "WIwi0vSesRtF",
        "colab_type": "code",
        "colab": {
          "base_uri": "https://localhost:8080/",
          "height": 71
        },
        "outputId": "451a28d6-e59c-4bd9-e796-e11e717b3ce0"
      },
      "source": [
        "print(train_data[0])\n",
        "print(x_train[0])"
      ],
      "execution_count": 21,
      "outputs": [
        {
          "output_type": "stream",
          "text": [
            "[1, 2, 2, 8, 43, 10, 447, 5, 25, 207, 270, 5, 3095, 111, 16, 369, 186, 90, 67, 7, 89, 5, 19, 102, 6, 19, 124, 15, 90, 67, 84, 22, 482, 26, 7, 48, 4, 49, 8, 864, 39, 209, 154, 6, 151, 6, 83, 11, 15, 22, 155, 11, 15, 7, 48, 9, 4579, 1005, 504, 6, 258, 6, 272, 11, 15, 22, 134, 44, 11, 15, 16, 8, 197, 1245, 90, 67, 52, 29, 209, 30, 32, 132, 6, 109, 15, 17, 12]\n",
            "[0. 1. 1. ... 0. 0. 0.]\n"
          ],
          "name": "stdout"
        }
      ]
    },
    {
      "cell_type": "code",
      "metadata": {
        "id": "JSc6tALmsMQV",
        "colab_type": "code",
        "colab": {}
      },
      "source": [
        "from keras.utils import to_categorical\n",
        "one_hot_train_labels = to_categorical(train_labels)\n",
        "one_hot_test_labels = to_categorical(test_labels)"
      ],
      "execution_count": 0,
      "outputs": []
    },
    {
      "cell_type": "code",
      "metadata": {
        "id": "rwNEa7MNulM0",
        "colab_type": "code",
        "colab": {
          "base_uri": "https://localhost:8080/",
          "height": 68
        },
        "outputId": "95e1fcff-0441-4ae2-8024-d55d2e6055eb"
      },
      "source": [
        "print(test_labels[0])\n",
        "print(one_hot_test_labels[0])"
      ],
      "execution_count": 24,
      "outputs": [
        {
          "output_type": "stream",
          "text": [
            "3\n",
            "[0. 0. 0. 1. 0. 0. 0. 0. 0. 0. 0. 0. 0. 0. 0. 0. 0. 0. 0. 0. 0. 0. 0. 0.\n",
            " 0. 0. 0. 0. 0. 0. 0. 0. 0. 0. 0. 0. 0. 0. 0. 0. 0. 0. 0. 0. 0. 0.]\n"
          ],
          "name": "stdout"
        }
      ]
    },
    {
      "cell_type": "code",
      "metadata": {
        "id": "z-4hvpFquxMU",
        "colab_type": "code",
        "colab": {
          "base_uri": "https://localhost:8080/",
          "height": 564
        },
        "outputId": "1774c0a7-2164-4aac-9b7b-4476cf935c61"
      },
      "source": [
        "from keras import models\n",
        "from keras import layers\n",
        "\n",
        "model = models.Sequential()\n",
        "model.add(layers.Dense(64, activation='relu', input_shape=(10000,)))\n",
        "model.add(layers.Dense(64, activation='relu'))\n",
        "model.add(layers.Dense(46, activation='softmax'))\n",
        "\n",
        "model.compile(optimizer='rmsprop', \n",
        "              loss='categorical_crossentropy',\n",
        "              metrics=['accuracy'])\n",
        "\n",
        "x_val = x_train[:1000]\n",
        "partial_x_train = x_train[1000:]\n",
        "\n",
        "y_val = one_hot_train_labels[:1000]\n",
        "partial_y_train = one_hot_train_labels[1000:]\n",
        "\n",
        "history = model.fit(partial_x_train,\n",
        "                    partial_y_train,\n",
        "                    epochs=15,\n",
        "                    batch_size=512,\n",
        "                    validation_data = (x_val, y_val))\n"
      ],
      "execution_count": 25,
      "outputs": [
        {
          "output_type": "stream",
          "text": [
            "Train on 7982 samples, validate on 1000 samples\n",
            "Epoch 1/15\n",
            "7982/7982 [==============================] - 2s 272us/step - loss: 2.5781 - accuracy: 0.5436 - val_loss: 1.6674 - val_accuracy: 0.6570\n",
            "Epoch 2/15\n",
            "7982/7982 [==============================] - 0s 52us/step - loss: 1.3553 - accuracy: 0.7171 - val_loss: 1.2799 - val_accuracy: 0.7230\n",
            "Epoch 3/15\n",
            "7982/7982 [==============================] - 0s 53us/step - loss: 1.0097 - accuracy: 0.7810 - val_loss: 1.1137 - val_accuracy: 0.7580\n",
            "Epoch 4/15\n",
            "7982/7982 [==============================] - 0s 53us/step - loss: 0.7959 - accuracy: 0.8304 - val_loss: 1.0354 - val_accuracy: 0.7770\n",
            "Epoch 5/15\n",
            "7982/7982 [==============================] - 0s 53us/step - loss: 0.6389 - accuracy: 0.8652 - val_loss: 0.9627 - val_accuracy: 0.7910\n",
            "Epoch 6/15\n",
            "7982/7982 [==============================] - 0s 53us/step - loss: 0.5131 - accuracy: 0.8914 - val_loss: 0.9190 - val_accuracy: 0.8050\n",
            "Epoch 7/15\n",
            "7982/7982 [==============================] - 0s 53us/step - loss: 0.4127 - accuracy: 0.9132 - val_loss: 0.9123 - val_accuracy: 0.8050\n",
            "Epoch 8/15\n",
            "7982/7982 [==============================] - 0s 53us/step - loss: 0.3364 - accuracy: 0.9257 - val_loss: 0.8906 - val_accuracy: 0.8180\n",
            "Epoch 9/15\n",
            "7982/7982 [==============================] - 0s 52us/step - loss: 0.2839 - accuracy: 0.9384 - val_loss: 0.9220 - val_accuracy: 0.8100\n",
            "Epoch 10/15\n",
            "7982/7982 [==============================] - 0s 53us/step - loss: 0.2367 - accuracy: 0.9453 - val_loss: 0.9240 - val_accuracy: 0.8110\n",
            "Epoch 11/15\n",
            "7982/7982 [==============================] - 0s 53us/step - loss: 0.2036 - accuracy: 0.9480 - val_loss: 0.9348 - val_accuracy: 0.8140\n",
            "Epoch 12/15\n",
            "7982/7982 [==============================] - 0s 52us/step - loss: 0.1804 - accuracy: 0.9501 - val_loss: 0.9096 - val_accuracy: 0.8220\n",
            "Epoch 13/15\n",
            "7982/7982 [==============================] - 0s 54us/step - loss: 0.1615 - accuracy: 0.9543 - val_loss: 0.9407 - val_accuracy: 0.8170\n",
            "Epoch 14/15\n",
            "7982/7982 [==============================] - 0s 52us/step - loss: 0.1512 - accuracy: 0.9550 - val_loss: 1.0032 - val_accuracy: 0.7960\n",
            "Epoch 15/15\n",
            "7982/7982 [==============================] - 0s 53us/step - loss: 0.1357 - accuracy: 0.9564 - val_loss: 0.9651 - val_accuracy: 0.8110\n"
          ],
          "name": "stdout"
        }
      ]
    },
    {
      "cell_type": "code",
      "metadata": {
        "id": "bB3vkrd0xHzx",
        "colab_type": "code",
        "colab": {
          "base_uri": "https://localhost:8080/",
          "height": 34
        },
        "outputId": "5b59a572-7de0-41ca-ce7e-48274e2c83d2"
      },
      "source": [
        "history_dict = history.history\n",
        "history_dict.keys()"
      ],
      "execution_count": 28,
      "outputs": [
        {
          "output_type": "execute_result",
          "data": {
            "text/plain": [
              "dict_keys(['val_loss', 'val_accuracy', 'loss', 'accuracy'])"
            ]
          },
          "metadata": {
            "tags": []
          },
          "execution_count": 28
        }
      ]
    },
    {
      "cell_type": "code",
      "metadata": {
        "id": "3wH2SMZ2wYuN",
        "colab_type": "code",
        "colab": {
          "base_uri": "https://localhost:8080/",
          "height": 295
        },
        "outputId": "a80ea82b-41df-4fe5-a013-e223e297c7e8"
      },
      "source": [
        "import matplotlib.pyplot as plt\n",
        "\n",
        "loss = history_dict['loss']\n",
        "val_loss = history_dict['val_loss']\n",
        "\n",
        "epochs = range(1, len(loss) + 1)\n",
        "\n",
        "plt.plot(epochs, loss, 'b', alpha=0.4, label='Training loss')\n",
        "plt.plot(epochs, val_loss, 'g', alpha=0.4, label='Validation loss')\n",
        "plt.title('Training and validation loss')\n",
        "plt.xlabel('Epochs')\n",
        "plt.ylabel('Loss')\n",
        "plt.legend()\n",
        "\n",
        "plt.show()"
      ],
      "execution_count": 29,
      "outputs": [
        {
          "output_type": "display_data",
          "data": {
            "image/png": "[encoded data removed]",
            "text/plain": [
              "<Figure size 432x288 with 1 Axes>"
            ]
          },
          "metadata": {
            "tags": [],
            "needs_background": "light"
          }
        }
      ]
    },
    {
      "cell_type": "code",
      "metadata": {
        "id": "guojnOiyxZH4",
        "colab_type": "code",
        "colab": {
          "base_uri": "https://localhost:8080/",
          "height": 295
        },
        "outputId": "1458e343-0db0-4963-b0df-90a66a1a0cc3"
      },
      "source": [
        "accuracy = history_dict['accuracy']\n",
        "val_accuracy = history_dict['val_accuracy']\n",
        "\n",
        "plt.plot(epochs, accuracy, 'b', alpha=0.4, label='Training accuracy')\n",
        "plt.plot(epochs, val_accuracy, 'g', alpha=0.4, label='Validation accuracy')\n",
        "plt.title('Training and validation accuracy')\n",
        "plt.xlabel('Epochs')\n",
        "plt.ylabel('ACC')\n",
        "plt.legend()\n",
        "\n",
        "plt.show()"
      ],
      "execution_count": 31,
      "outputs": [
        {
          "output_type": "display_data",
          "data": {
            "image/png": "[encoded data removed]",
            "text/plain": [
              "<Figure size 432x288 with 1 Axes>"
            ]
          },
          "metadata": {
            "tags": [],
            "needs_background": "light"
          }
        }
      ]
    },
    {
      "cell_type": "code",
      "metadata": {
        "id": "_wLEWxNOyF9x",
        "colab_type": "code",
        "colab": {
          "base_uri": "https://localhost:8080/",
          "height": 34
        },
        "outputId": "5aa8a8b3-1e47-4031-cab0-46536a778b6a"
      },
      "source": [
        "results = model.evaluate(x_test, one_hot_test_labels)"
      ],
      "execution_count": 32,
      "outputs": [
        {
          "output_type": "stream",
          "text": [
            "2246/2246 [==============================] - 0s 93us/step\n"
          ],
          "name": "stdout"
        }
      ]
    },
    {
      "cell_type": "code",
      "metadata": {
        "id": "FTBD-9a_yQFv",
        "colab_type": "code",
        "colab": {
          "base_uri": "https://localhost:8080/",
          "height": 34
        },
        "outputId": "14931086-cdab-49e1-e6f0-534b3610caca"
      },
      "source": [
        "results"
      ],
      "execution_count": 33,
      "outputs": [
        {
          "output_type": "execute_result",
          "data": {
            "text/plain": [
              "[1.1142054330209272, 0.7920747995376587]"
            ]
          },
          "metadata": {
            "tags": []
          },
          "execution_count": 33
        }
      ]
    },
    {
      "cell_type": "code",
      "metadata": {
        "id": "H4cPF4wEyteP",
        "colab_type": "code",
        "colab": {}
      },
      "source": [
        "predictions = model.predict(x_test)"
      ],
      "execution_count": 0,
      "outputs": []
    },
    {
      "cell_type": "code",
      "metadata": {
        "id": "Dc9w8s4Oyxf5",
        "colab_type": "code",
        "colab": {
          "base_uri": "https://localhost:8080/",
          "height": 34
        },
        "outputId": "0e8cba88-4740-4be4-ea93-d2b03d8360c2"
      },
      "source": [
        "predictions[0].shape"
      ],
      "execution_count": 35,
      "outputs": [
        {
          "output_type": "execute_result",
          "data": {
            "text/plain": [
              "(46,)"
            ]
          },
          "metadata": {
            "tags": []
          },
          "execution_count": 35
        }
      ]
    },
    {
      "cell_type": "code",
      "metadata": {
        "id": "1S8nk1xwy24I",
        "colab_type": "code",
        "colab": {
          "base_uri": "https://localhost:8080/",
          "height": 34
        },
        "outputId": "9e2f55d0-df6a-43a9-c673-2e27542b6b57"
      },
      "source": [
        "np.sum(predictions[0])"
      ],
      "execution_count": 36,
      "outputs": [
        {
          "output_type": "execute_result",
          "data": {
            "text/plain": [
              "1.0000001"
            ]
          },
          "metadata": {
            "tags": []
          },
          "execution_count": 36
        }
      ]
    },
    {
      "cell_type": "code",
      "metadata": {
        "id": "dIOZtDnCy6wD",
        "colab_type": "code",
        "colab": {
          "base_uri": "https://localhost:8080/",
          "height": 34
        },
        "outputId": "5043b6a4-d082-4d5a-81a1-651282994f70"
      },
      "source": [
        "np.argmax(predictions[0])"
      ],
      "execution_count": 37,
      "outputs": [
        {
          "output_type": "execute_result",
          "data": {
            "text/plain": [
              "3"
            ]
          },
          "metadata": {
            "tags": []
          },
          "execution_count": 37
        }
      ]
    }
  ]
}