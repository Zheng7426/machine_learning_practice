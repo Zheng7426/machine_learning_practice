{
 "cells": [
  {
   "cell_type": "code",
   "execution_count": 11,
   "metadata": {},
   "outputs": [],
   "source": [
    "import pandas as pd\n",
    "from matplotlib import pyplot as plt"
   ]
  },
  {
   "cell_type": "code",
   "execution_count": 6,
   "metadata": {},
   "outputs": [],
   "source": [
    "waterfalls = pd.read_csv('./City_Waterfalls.csv')"
   ]
  },
  {
   "cell_type": "code",
   "execution_count": 7,
   "metadata": {},
   "outputs": [
    {
     "data": {
      "text/html": [
       "<div>\n",
       "<style scoped>\n",
       "    .dataframe tbody tr th:only-of-type {\n",
       "        vertical-align: middle;\n",
       "    }\n",
       "\n",
       "    .dataframe tbody tr th {\n",
       "        vertical-align: top;\n",
       "    }\n",
       "\n",
       "    .dataframe thead th {\n",
       "        text-align: right;\n",
       "    }\n",
       "</style>\n",
       "<table border=\"1\" class=\"dataframe\">\n",
       "  <thead>\n",
       "    <tr style=\"text-align: right;\">\n",
       "      <th></th>\n",
       "      <th>X</th>\n",
       "      <th>Y</th>\n",
       "      <th>OBJECTID</th>\n",
       "      <th>SNO</th>\n",
       "      <th>NAME</th>\n",
       "      <th>ALTERNATE_NAME</th>\n",
       "      <th>COMMUNITY</th>\n",
       "      <th>TYPE</th>\n",
       "      <th>RANKING</th>\n",
       "      <th>CLUSTER_AREA</th>\n",
       "      <th>HEIGHT_IN_M</th>\n",
       "      <th>WIDTH_IN_M</th>\n",
       "      <th>OWNERSHIP</th>\n",
       "      <th>ACCESS_FROM</th>\n",
       "      <th>LONGITUDE</th>\n",
       "      <th>LATITUDE</th>\n",
       "    </tr>\n",
       "  </thead>\n",
       "  <tbody>\n",
       "    <tr>\n",
       "      <th>0</th>\n",
       "      <td>608456</td>\n",
       "      <td>4784015</td>\n",
       "      <td>1</td>\n",
       "      <td>88</td>\n",
       "      <td>Lewis Rd. East Falls</td>\n",
       "      <td>NaN</td>\n",
       "      <td>Stoney Creek</td>\n",
       "      <td>Cascade</td>\n",
       "      <td>C</td>\n",
       "      <td>Stoney Creek-Winona</td>\n",
       "      <td>8.0</td>\n",
       "      <td>5.0</td>\n",
       "      <td>private</td>\n",
       "      <td>McNeilly Rd.</td>\n",
       "      <td>-79.665033</td>\n",
       "      <td>43.201127</td>\n",
       "    </tr>\n",
       "    <tr>\n",
       "      <th>1</th>\n",
       "      <td>583986</td>\n",
       "      <td>4787936</td>\n",
       "      <td>2</td>\n",
       "      <td>27</td>\n",
       "      <td>Little Falls</td>\n",
       "      <td>NaN</td>\n",
       "      <td>Ancaster</td>\n",
       "      <td>Cascade</td>\n",
       "      <td>C</td>\n",
       "      <td>Tiffany-Coldwater</td>\n",
       "      <td>7.0</td>\n",
       "      <td>3.0</td>\n",
       "      <td>public</td>\n",
       "      <td>Wilson St. E.</td>\n",
       "      <td>-79.965579</td>\n",
       "      <td>43.239547</td>\n",
       "    </tr>\n",
       "    <tr>\n",
       "      <th>2</th>\n",
       "      <td>584594</td>\n",
       "      <td>4787790</td>\n",
       "      <td>3</td>\n",
       "      <td>28</td>\n",
       "      <td>Tiffany Falls</td>\n",
       "      <td>NaN</td>\n",
       "      <td>Ancaster</td>\n",
       "      <td>Waterfall</td>\n",
       "      <td>A</td>\n",
       "      <td>Tiffany-Coldwater</td>\n",
       "      <td>21.0</td>\n",
       "      <td>6.0</td>\n",
       "      <td>public</td>\n",
       "      <td>Wilson St. E. / Tiffany Falls CA</td>\n",
       "      <td>-79.958114</td>\n",
       "      <td>43.238164</td>\n",
       "    </tr>\n",
       "    <tr>\n",
       "      <th>3</th>\n",
       "      <td>586478</td>\n",
       "      <td>4788482</td>\n",
       "      <td>4</td>\n",
       "      <td>33</td>\n",
       "      <td>Scenic Falls</td>\n",
       "      <td>NaN</td>\n",
       "      <td>Hamilton</td>\n",
       "      <td>Cascade</td>\n",
       "      <td>A</td>\n",
       "      <td>Chedoke-Scenic</td>\n",
       "      <td>20.0</td>\n",
       "      <td>6.0</td>\n",
       "      <td>public</td>\n",
       "      <td>Scenic Dr. / Chedoke Radial Trail Head</td>\n",
       "      <td>-79.934805</td>\n",
       "      <td>43.244181</td>\n",
       "    </tr>\n",
       "    <tr>\n",
       "      <th>4</th>\n",
       "      <td>586872</td>\n",
       "      <td>4788682</td>\n",
       "      <td>5</td>\n",
       "      <td>34</td>\n",
       "      <td>Lower Princess Falls</td>\n",
       "      <td>Lower Lang's Falls</td>\n",
       "      <td>Hamilton</td>\n",
       "      <td>Cascade</td>\n",
       "      <td>A</td>\n",
       "      <td>Chedoke-Scenic</td>\n",
       "      <td>39.5</td>\n",
       "      <td>3.0</td>\n",
       "      <td>public</td>\n",
       "      <td>Hwy 403</td>\n",
       "      <td>-79.929921</td>\n",
       "      <td>43.245936</td>\n",
       "    </tr>\n",
       "  </tbody>\n",
       "</table>\n",
       "</div>"
      ],
      "text/plain": [
       "        X        Y  OBJECTID  SNO                  NAME      ALTERNATE_NAME  \\\n",
       "0  608456  4784015         1   88  Lewis Rd. East Falls                 NaN   \n",
       "1  583986  4787936         2   27          Little Falls                 NaN   \n",
       "2  584594  4787790         3   28         Tiffany Falls                 NaN   \n",
       "3  586478  4788482         4   33          Scenic Falls                 NaN   \n",
       "4  586872  4788682         5   34  Lower Princess Falls  Lower Lang's Falls   \n",
       "\n",
       "      COMMUNITY       TYPE RANKING         CLUSTER_AREA  HEIGHT_IN_M  \\\n",
       "0  Stoney Creek    Cascade       C  Stoney Creek-Winona          8.0   \n",
       "1      Ancaster    Cascade       C    Tiffany-Coldwater          7.0   \n",
       "2      Ancaster  Waterfall       A    Tiffany-Coldwater         21.0   \n",
       "3      Hamilton    Cascade       A       Chedoke-Scenic         20.0   \n",
       "4      Hamilton    Cascade       A       Chedoke-Scenic         39.5   \n",
       "\n",
       "   WIDTH_IN_M OWNERSHIP                             ACCESS_FROM  LONGITUDE  \\\n",
       "0         5.0   private                            McNeilly Rd. -79.665033   \n",
       "1         3.0    public                           Wilson St. E. -79.965579   \n",
       "2         6.0    public        Wilson St. E. / Tiffany Falls CA -79.958114   \n",
       "3         6.0    public  Scenic Dr. / Chedoke Radial Trail Head -79.934805   \n",
       "4         3.0    public                                 Hwy 403 -79.929921   \n",
       "\n",
       "    LATITUDE  \n",
       "0  43.201127  \n",
       "1  43.239547  \n",
       "2  43.238164  \n",
       "3  43.244181  \n",
       "4  43.245936  "
      ]
     },
     "execution_count": 7,
     "metadata": {},
     "output_type": "execute_result"
    }
   ],
   "source": [
    "waterfalls.head()"
   ]
  },
  {
   "cell_type": "code",
   "execution_count": 8,
   "metadata": {},
   "outputs": [
    {
     "name": "stdout",
     "output_type": "stream",
     "text": [
      "<class 'pandas.core.frame.DataFrame'>\n",
      "RangeIndex: 75 entries, 0 to 74\n",
      "Data columns (total 16 columns):\n",
      " #   Column          Non-Null Count  Dtype  \n",
      "---  ------          --------------  -----  \n",
      " 0   X               75 non-null     int64  \n",
      " 1   Y               75 non-null     int64  \n",
      " 2   OBJECTID        75 non-null     int64  \n",
      " 3   SNO             75 non-null     int64  \n",
      " 4   NAME            75 non-null     object \n",
      " 5   ALTERNATE_NAME  31 non-null     object \n",
      " 6   COMMUNITY       75 non-null     object \n",
      " 7   TYPE            75 non-null     object \n",
      " 8   RANKING         75 non-null     object \n",
      " 9   CLUSTER_AREA    75 non-null     object \n",
      " 10  HEIGHT_IN_M     75 non-null     float64\n",
      " 11  WIDTH_IN_M      75 non-null     float64\n",
      " 12  OWNERSHIP       75 non-null     object \n",
      " 13  ACCESS_FROM     75 non-null     object \n",
      " 14  LONGITUDE       75 non-null     float64\n",
      " 15  LATITUDE        75 non-null     float64\n",
      "dtypes: float64(4), int64(4), object(8)\n",
      "memory usage: 9.5+ KB\n"
     ]
    }
   ],
   "source": [
    "waterfalls.info()"
   ]
  },
  {
   "cell_type": "code",
   "execution_count": 9,
   "metadata": {},
   "outputs": [
    {
     "data": {
      "text/plain": [
       "Hamilton        29\n",
       "Stoney Creek    15\n",
       "Flamborough     14\n",
       "Ancaster        12\n",
       "Dundas           5\n",
       "Name: COMMUNITY, dtype: int64"
      ]
     },
     "execution_count": 9,
     "metadata": {},
     "output_type": "execute_result"
    }
   ],
   "source": [
    "waterfalls['COMMUNITY'].value_counts()"
   ]
  },
  {
   "cell_type": "code",
   "execution_count": 10,
   "metadata": {},
   "outputs": [
    {
     "data": {
      "text/plain": [
       "C    30\n",
       "B    27\n",
       "A    18\n",
       "Name: RANKING, dtype: int64"
      ]
     },
     "execution_count": 10,
     "metadata": {},
     "output_type": "execute_result"
    }
   ],
   "source": [
    "waterfalls['RANKING'].value_counts()"
   ]
  },
  {
   "cell_type": "code",
   "execution_count": 14,
   "metadata": {},
   "outputs": [
    {
     "data": {
      "text/plain": [
       "<matplotlib.axes._subplots.AxesSubplot at 0x25a316ddb88>"
      ]
     },
     "execution_count": 14,
     "metadata": {},
     "output_type": "execute_result"
    },
    {
     "data": {
      "image/png": "[encoded data removed]",
      "text/plain": [
       "<Figure size 432x288 with 1 Axes>"
      ]
     },
     "metadata": {
      "needs_background": "light"
     },
     "output_type": "display_data"
    }
   ],
   "source": [
    "waterfalls.plot(kind=\"scatter\", x=\"LONGITUDE\", y=\"LATITUDE\", alpha=0.6)"
   ]
  },
  {
   "cell_type": "code",
   "execution_count": null,
   "metadata": {},
   "outputs": [],
   "source": []
  }
 ],
 "metadata": {
  "kernelspec": {
   "display_name": "Python 3",
   "language": "python",
   "name": "python3"
  },
  "language_info": {
   "codemirror_mode": {
    "name": "ipython",
    "version": 3
   },
   "file_extension": ".py",
   "mimetype": "text/x-python",
   "name": "python",
   "nbconvert_exporter": "python",
   "pygments_lexer": "ipython3",
   "version": "3.7.6"
  }
 },
 "nbformat": 4,
 "nbformat_minor": 4
}
